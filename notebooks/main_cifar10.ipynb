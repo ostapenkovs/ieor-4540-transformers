{
 "cells": [
  {
   "cell_type": "markdown",
   "metadata": {
    "id": "ZwktxqRBBOrP"
   },
   "source": [
    "**Task**:\n",
    "\n",
    "Compare regular Vision Transformer (ViT) with Performer applying different attention kernels leveraging deterministic kernel features: Performer-ReLU and Performer-exp.\n",
    "\n",
    "Record training, inference time and classification accuracy on eval tests for all three Transformer types.\n",
    "\n",
    "**Note**:\n",
    "\n",
    "A Performer-f variant is a Transformer replacing regular softmax attention kernel\n",
    "$$K(q, k) = \\exp(\\frac{qk^{\\top}}{\\sqrt{d_{QK}}})$$\n",
    "with\n",
    "$$K(q, k) = f(q)f(k)^{\\top}$$"
   ]
  },
  {
   "cell_type": "markdown",
   "metadata": {
    "id": "zruyXLOHBOrQ"
   },
   "source": [
    "Libraries"
   ]
  },
  {
   "cell_type": "code",
   "execution_count": 1,
   "metadata": {
    "colab": {
     "base_uri": "https://localhost:8080/"
    },
    "executionInfo": {
     "elapsed": 1119,
     "status": "ok",
     "timestamp": 1733011581526,
     "user": {
      "displayName": "Vasiliy Ostapenko",
      "userId": "08824242684314398509"
     },
     "user_tz": 480
    },
    "id": "HQD3lEb-BOrR",
    "outputId": "081fc20a-3f2b-4e40-c44c-0808250dfa8f"
   },
   "outputs": [],
   "source": [
    "# import os\n",
    "# from google.colab import drive\n",
    "# drive.mount('/content/drive')\n",
    "# os.chdir(\"/content/drive/My Drive/2024_fall/data-mining/notebooks\")\n",
    "\n",
    "# # !pip install -q optuna"
   ]
  },
  {
   "cell_type": "code",
   "execution_count": 2,
   "metadata": {
    "executionInfo": {
     "elapsed": 6664,
     "status": "ok",
     "timestamp": 1733011588188,
     "user": {
      "displayName": "Vasiliy Ostapenko",
      "userId": "08824242684314398509"
     },
     "user_tz": 480
    },
    "id": "xRhWhStXBOrS"
   },
   "outputs": [],
   "source": [
    "import time\n",
    "from functools import partial\n",
    "import sys, os\n",
    "import numpy as np\n",
    "import pandas as pd\n",
    "import matplotlib.pyplot as plt\n",
    "\n",
    "from torch.utils.data import DataLoader\n",
    "\n",
    "# import optuna\n",
    "# optuna.logging.set_verbosity(optuna.logging.WARNING)\n",
    "\n",
    "sys.path.append(os.path.join(os.getcwd(), '..'))\n",
    "from src.util import get_data\n",
    "from src.vit import Trainer"
   ]
  },
  {
   "cell_type": "markdown",
   "metadata": {
    "id": "3avGuOolBOrS"
   },
   "source": [
    "Data"
   ]
  },
  {
   "cell_type": "code",
   "execution_count": 3,
   "metadata": {
    "colab": {
     "base_uri": "https://localhost:8080/"
    },
    "executionInfo": {
     "elapsed": 1587,
     "status": "ok",
     "timestamp": 1733011589772,
     "user": {
      "displayName": "Vasiliy Ostapenko",
      "userId": "08824242684314398509"
     },
     "user_tz": 480
    },
    "id": "xpY3YondBOrT",
    "outputId": "872ac8e0-ca7e-4869-e164-a6087b6ac9e7"
   },
   "outputs": [
    {
     "name": "stdout",
     "output_type": "stream",
     "text": [
      "Channels: 3, Image size: 32, Num. classes: 10.\n"
     ]
    },
    {
     "data": {
      "text/plain": [
       "(50000, 10000)"
      ]
     },
     "execution_count": 3,
     "metadata": {},
     "output_type": "execute_result"
    }
   ],
   "source": [
    "### DEFINE DATASET ###\n",
    "dataset_name = 'cifar10'\n",
    "### DEFINE DATASET ###\n",
    "\n",
    "### GETTING THE DATA ###\n",
    "data_dir = '../data'; dwn = False\n",
    "\n",
    "dataset_dir = f'{data_dir}/{dataset_name}'\n",
    "train_dir = f'{dataset_dir}/train'; test_dir = f'{dataset_dir}/test'\n",
    "\n",
    "checkpoint_dir = f'{data_dir}/checkpoints'\n",
    "log_dir = f'{data_dir}/logs'\n",
    "\n",
    "for dir in (data_dir, dataset_dir, train_dir, test_dir, checkpoint_dir, log_dir):\n",
    "    if not os.path.exists(dir): os.makedirs(dir)\n",
    "\n",
    "train_set, test_set, channels, image_size, num_classes = get_data(\n",
    "    dataset_name=dataset_name, train_dir=train_dir, test_dir=test_dir, dwn=dwn\n",
    ")\n",
    "\n",
    "print(f'Channels: {channels}, Image size: {image_size}, Num. classes: {num_classes}.')\n",
    "len(train_set), len(test_set)\n",
    "### GETTING THE DATA ###"
   ]
  },
  {
   "cell_type": "markdown",
   "metadata": {
    "id": "4geJqFSQBOrU"
   },
   "source": [
    "Hyperparam Optimization"
   ]
  },
  {
   "cell_type": "code",
   "execution_count": 4,
   "metadata": {
    "executionInfo": {
     "elapsed": 6,
     "status": "ok",
     "timestamp": 1733011589773,
     "user": {
      "displayName": "Vasiliy Ostapenko",
      "userId": "08824242684314398509"
     },
     "user_tz": 480
    },
    "id": "KUK0yZqCBOrU"
   },
   "outputs": [],
   "source": [
    "# def print_best_callback(study, trial):\n",
    "#     print(f'Best value: {study.best_value}, Best params: {study.best_trial.params}')\n",
    "\n",
    "# def objective(trial, device, train_set, test_set, model_kwargs, train_kwargs, dl_kwargs):\n",
    "#     bs = trial.suggest_categorical('bs', [64, 128])\n",
    "#     lr = 0.001\n",
    "#     gm = 0.95\n",
    "\n",
    "#     ps = 4\n",
    "\n",
    "#     di = 256\n",
    "#     dh = 256\n",
    "#     md = 512\n",
    "\n",
    "#     he = trial.suggest_categorical('he', [3, 6])\n",
    "#     de = trial.suggest_categorical('de', [1, 2])\n",
    "\n",
    "#     train_loader = DataLoader(dataset=train_set, batch_size=bs, **dl_kwargs)\n",
    "#     test_loader  = DataLoader(dataset=test_set , batch_size=bs, **dl_kwargs)\n",
    "\n",
    "#     model = ViT(patch_size=ps, dim=di, depth=de, heads=he, mlp_dim=md, dim_head=dh, **model_kwargs).to(device)\n",
    "\n",
    "#     avg_vacc = train_valid(trial=trial, device=device, model=model, lr=lr, gamma=gm,\n",
    "#         train_dataset=train_loader, test_dataset=test_loader, **train_kwargs)\n",
    "\n",
    "#     return avg_vacc\n",
    "\n",
    "# objective = partial(\n",
    "#     objective,\n",
    "#     device=device, train_set=train_set, test_set=test_set,\n",
    "#     model_kwargs=dict(\n",
    "#         image_size=image_size, num_classes=num_classes, pool='cls', channels=channels,\n",
    "#         dropout=0.10, emb_dropout=0.10, attn_type='learn', la_depth=1\n",
    "#     ),\n",
    "#     train_kwargs=dict(\n",
    "#         epochs=5, save_freq=11, checkpoint_name='temp', verbose=False\n",
    "#     ),\n",
    "#     dl_kwargs=dl_kwargs\n",
    "# )\n",
    "\n",
    "# study = optuna.create_study(direction='maximize')\n",
    "# study.optimize(objective, callbacks=[print_best_callback], n_trials=8, show_progress_bar=True, n_jobs=-1)"
   ]
  },
  {
   "cell_type": "code",
   "execution_count": 5,
   "metadata": {
    "executionInfo": {
     "elapsed": 5,
     "status": "ok",
     "timestamp": 1733011589773,
     "user": {
      "displayName": "Vasiliy Ostapenko",
      "userId": "08824242684314398509"
     },
     "user_tz": 480
    },
    "id": "5GvUh-zaBOrV"
   },
   "outputs": [],
   "source": [
    "# print( study.best_trial.params )\n",
    "\n",
    "# fig = optuna.visualization.plot_param_importances(study)\n",
    "# fig.show()"
   ]
  },
  {
   "cell_type": "code",
   "execution_count": 6,
   "metadata": {
    "executionInfo": {
     "elapsed": 5,
     "status": "ok",
     "timestamp": 1733011589773,
     "user": {
      "displayName": "Vasiliy Ostapenko",
      "userId": "08824242684314398509"
     },
     "user_tz": 480
    },
    "id": "Hd3-0514BOrW"
   },
   "outputs": [],
   "source": [
    "# fig = optuna.visualization.plot_contour(study, params=['bs', 'he'])\n",
    "# fig.show()"
   ]
  },
  {
   "cell_type": "markdown",
   "metadata": {
    "id": "vYniLZJUBOrW"
   },
   "source": [
    "Training and Validation (using optimal params.)"
   ]
  },
  {
   "cell_type": "code",
   "execution_count": null,
   "metadata": {
    "executionInfo": {
     "elapsed": 5,
     "status": "ok",
     "timestamp": 1733011589773,
     "user": {
      "displayName": "Vasiliy Ostapenko",
      "userId": "08824242684314398509"
     },
     "user_tz": 480
    },
    "id": "0yMz8YZXBOrW"
   },
   "outputs": [],
   "source": [
    "import json\n",
    "with open(f'{data_dir}/params.json', 'r') as f:\n",
    "    my_params = json.load(f)[dataset_name]\n",
    "\n",
    "### MODEL PARAMS ###\n",
    "patch_size = my_params.get('patch_size')\n",
    "dim = my_params.get('dim')\n",
    "dim_head = my_params.get('dim_head')\n",
    "mlp_dim = my_params.get('mlp_dim')\n",
    "heads = my_params.get('heads')\n",
    "depth = my_params.get('depth')\n",
    "pool = my_params.get('pool')\n",
    "dropout = my_params.get('dropout')\n",
    "emb_dropout = my_params.get('emb_dropout')\n",
    "la_depth = my_params.get('la_depth')\n",
    "la_exp = my_params.get('la_exp')\n",
    "### MODEL PARAMS ###\n",
    "\n",
    "### OTHER PARAMS ###\n",
    "lr = my_params.get('lr')\n",
    "epochs = my_params.get('epochs')\n",
    "gamma = my_params.get('gamma')\n",
    "batch_size = my_params.get('batch_size')\n",
    "### OTHER PARAMS ###"
   ]
  },
  {
   "cell_type": "code",
   "execution_count": 9,
   "metadata": {
    "colab": {
     "base_uri": "https://localhost:8080/",
     "height": 17,
     "referenced_widgets": [
      "d1e5b879f8914a60914913e7aa080c33",
      "27813c43675542a59e762791e515e8b2",
      "c1fa7b50e7fb45d18c9b78b1f3fce452",
      "821e660494b44332953800b1c69d0224",
      "4c2df1c491e74304b89eb1932f818868",
      "02ce51b93f394398afe8c91a6c2b2a77",
      "e869aced0ad248cd9353e0240429e9e1",
      "060339472dd04f4ea5861d05dbacad64",
      "c883ab9e0d84461e9e01d9cc20c4aab3",
      "01a7ff43f36b45898f3fedcdfe75c3e8",
      "d2793ee60846430fbbddb2fa7f69bd78"
     ]
    },
    "executionInfo": {
     "elapsed": 1855847,
     "status": "ok",
     "timestamp": 1733015841572,
     "user": {
      "displayName": "Vasiliy Ostapenko",
      "userId": "08824242684314398509"
     },
     "user_tz": 480
    },
    "id": "BUtP-Jv3BOrX",
    "outputId": "6a285037-ec6d-4100-b227-42c61f53cde1"
   },
   "outputs": [
    {
     "data": {
      "application/vnd.jupyter.widget-view+json": {
       "model_id": "d1e5b879f8914a60914913e7aa080c33",
       "version_major": 2,
       "version_minor": 0
      },
      "text/plain": [
       "Epoch:   0%|          | 0/30 [00:00<?, ?it/s]"
      ]
     },
     "metadata": {},
     "output_type": "display_data"
    }
   ],
   "source": [
    "train_loader = DataLoader(dataset=train_set, batch_size=batch_size, shuffle=False, num_workers=0, pin_memory=True)\n",
    "valid_loader = DataLoader(dataset=test_set , batch_size=batch_size, shuffle=False, num_workers=0, pin_memory=True)\n",
    "\n",
    "# all_model_names = ('learn', 'relu', 'exp', 'softmax')\n",
    "all_model_names = ('learn', 'relu')\n",
    "# all_model_names = ('relu', )\n",
    "\n",
    "for model_name in all_model_names:\n",
    "    checkpoint_name = f'{checkpoint_dir}/{model_name}_{dataset_name}'\n",
    "    log_name = f'{log_dir}/{model_name}_{dataset_name}.csv'\n",
    "\n",
    "    t = Trainer(\n",
    "        lr=lr, gamma=gamma,\n",
    "        image_size=image_size, patch_size=patch_size, num_classes=num_classes, dim=dim,\n",
    "        depth=depth, heads=heads, mlp_dim=mlp_dim, pool=pool, channels=channels,\n",
    "        dim_head=dim_head, dropout=dropout, emb_dropout=emb_dropout,\n",
    "        attn_type=model_name, la_depth=la_depth, la_exp=la_exp\n",
    "    )\n",
    "\n",
    "    hist = t.train_valid(\n",
    "        epochs=epochs, train_loader=train_loader, valid_loader=valid_loader,\n",
    "        log_dir=log_name, checkpoint_dir=checkpoint_name, model_name=model_name,\n",
    "        notebook=True\n",
    "    )"
   ]
  },
  {
   "cell_type": "markdown",
   "metadata": {
    "id": "FFD18A_GBOrX"
   },
   "source": [
    "Training and Validation Time"
   ]
  },
  {
   "cell_type": "code",
   "execution_count": null,
   "metadata": {
    "executionInfo": {
     "elapsed": 11,
     "status": "aborted",
     "timestamp": 1733013875475,
     "user": {
      "displayName": "Vasiliy Ostapenko",
      "userId": "08824242684314398509"
     },
     "user_tz": 480
    },
    "id": "FNHcIeclBOrX"
   },
   "outputs": [],
   "source": [
    "# for model_name in all_model_names:\n",
    "#     elapsed = final_results[model_name][2]\n",
    "#     print(f'Model: {model_name}, Time: {round( elapsed / (60) , 4)} min.')"
   ]
  },
  {
   "cell_type": "markdown",
   "metadata": {
    "id": "E-8Y62loBOrX"
   },
   "source": [
    "Accuracy / Loss Visualization"
   ]
  },
  {
   "cell_type": "code",
   "execution_count": null,
   "metadata": {
    "executionInfo": {
     "elapsed": 10,
     "status": "aborted",
     "timestamp": 1733013875475,
     "user": {
      "displayName": "Vasiliy Ostapenko",
      "userId": "08824242684314398509"
     },
     "user_tz": 480
    },
    "id": "nHm_0ALnBOrY"
   },
   "outputs": [],
   "source": [
    "# fig, ax = plt.subplots(1, 1, figsize=(12, 4))\n",
    "# col = 'acc' if False else 'loss'\n",
    "\n",
    "# for model_name, linestyle in zip(all_model_names, ('-', ':', '-.', '--')[:len(all_model_names)]):\n",
    "#     hist = final_results[model_name][1]\n",
    "\n",
    "#     ax.plot(range(1, epochs+1), hist[f'avg_{col}'], label=f'{model_name} train {col}',\n",
    "#         color='red', linestyle=linestyle)\n",
    "#     ax.plot(range(1, epochs+1), hist[f'avg_v{col}'], label=f'{model_name} test {col}',\n",
    "#         color='blue', linestyle=linestyle)\n",
    "\n",
    "# plt.legend(); plt.tight_layout(); plt.show()"
   ]
  },
  {
   "cell_type": "markdown",
   "metadata": {
    "id": "ZwF210jwBOrY"
   },
   "source": [
    "Inference Time"
   ]
  },
  {
   "cell_type": "code",
   "execution_count": null,
   "metadata": {
    "executionInfo": {
     "elapsed": 11,
     "status": "aborted",
     "timestamp": 1733013875476,
     "user": {
      "displayName": "Vasiliy Ostapenko",
      "userId": "08824242684314398509"
     },
     "user_tz": 480
    },
    "id": "tV-ePAahBOrY"
   },
   "outputs": [],
   "source": [
    "# for model_name in all_model_names:\n",
    "#     model = final_results[model_name][0]\n",
    "#     model.eval()\n",
    "\n",
    "#     start = time.time()\n",
    "#     with torch.no_grad():\n",
    "#         for vinputs, _ in test_loader:\n",
    "#             model(vinputs.to(device))\n",
    "#     elapsed = time.time() - start # seconds\n",
    "#     print(f'Model: {model_name}, Time: {round( elapsed / (60) , 4)} min.')"
   ]
  }
 ],
 "metadata": {
  "accelerator": "GPU",
  "colab": {
   "gpuType": "T4",
   "provenance": []
  },
  "kernelspec": {
   "display_name": "nnenv",
   "language": "python",
   "name": "python3"
  },
  "language_info": {
   "codemirror_mode": {
    "name": "ipython",
    "version": 3
   },
   "file_extension": ".py",
   "mimetype": "text/x-python",
   "name": "python",
   "nbconvert_exporter": "python",
   "pygments_lexer": "ipython3",
   "version": "3.10.15"
  },
  "widgets": {
   "application/vnd.jupyter.widget-state+json": {
    "01a7ff43f36b45898f3fedcdfe75c3e8": {
     "model_module": "@jupyter-widgets/base",
     "model_module_version": "1.2.0",
     "model_name": "LayoutModel",
     "state": {
      "_model_module": "@jupyter-widgets/base",
      "_model_module_version": "1.2.0",
      "_model_name": "LayoutModel",
      "_view_count": null,
      "_view_module": "@jupyter-widgets/base",
      "_view_module_version": "1.2.0",
      "_view_name": "LayoutView",
      "align_content": null,
      "align_items": null,
      "align_self": null,
      "border": null,
      "bottom": null,
      "display": null,
      "flex": null,
      "flex_flow": null,
      "grid_area": null,
      "grid_auto_columns": null,
      "grid_auto_flow": null,
      "grid_auto_rows": null,
      "grid_column": null,
      "grid_gap": null,
      "grid_row": null,
      "grid_template_areas": null,
      "grid_template_columns": null,
      "grid_template_rows": null,
      "height": null,
      "justify_content": null,
      "justify_items": null,
      "left": null,
      "margin": null,
      "max_height": null,
      "max_width": null,
      "min_height": null,
      "min_width": null,
      "object_fit": null,
      "object_position": null,
      "order": null,
      "overflow": null,
      "overflow_x": null,
      "overflow_y": null,
      "padding": null,
      "right": null,
      "top": null,
      "visibility": null,
      "width": null
     }
    },
    "02ce51b93f394398afe8c91a6c2b2a77": {
     "model_module": "@jupyter-widgets/base",
     "model_module_version": "1.2.0",
     "model_name": "LayoutModel",
     "state": {
      "_model_module": "@jupyter-widgets/base",
      "_model_module_version": "1.2.0",
      "_model_name": "LayoutModel",
      "_view_count": null,
      "_view_module": "@jupyter-widgets/base",
      "_view_module_version": "1.2.0",
      "_view_name": "LayoutView",
      "align_content": null,
      "align_items": null,
      "align_self": null,
      "border": null,
      "bottom": null,
      "display": null,
      "flex": null,
      "flex_flow": null,
      "grid_area": null,
      "grid_auto_columns": null,
      "grid_auto_flow": null,
      "grid_auto_rows": null,
      "grid_column": null,
      "grid_gap": null,
      "grid_row": null,
      "grid_template_areas": null,
      "grid_template_columns": null,
      "grid_template_rows": null,
      "height": null,
      "justify_content": null,
      "justify_items": null,
      "left": null,
      "margin": null,
      "max_height": null,
      "max_width": null,
      "min_height": null,
      "min_width": null,
      "object_fit": null,
      "object_position": null,
      "order": null,
      "overflow": null,
      "overflow_x": null,
      "overflow_y": null,
      "padding": null,
      "right": null,
      "top": null,
      "visibility": null,
      "width": null
     }
    },
    "060339472dd04f4ea5861d05dbacad64": {
     "model_module": "@jupyter-widgets/base",
     "model_module_version": "1.2.0",
     "model_name": "LayoutModel",
     "state": {
      "_model_module": "@jupyter-widgets/base",
      "_model_module_version": "1.2.0",
      "_model_name": "LayoutModel",
      "_view_count": null,
      "_view_module": "@jupyter-widgets/base",
      "_view_module_version": "1.2.0",
      "_view_name": "LayoutView",
      "align_content": null,
      "align_items": null,
      "align_self": null,
      "border": null,
      "bottom": null,
      "display": null,
      "flex": null,
      "flex_flow": null,
      "grid_area": null,
      "grid_auto_columns": null,
      "grid_auto_flow": null,
      "grid_auto_rows": null,
      "grid_column": null,
      "grid_gap": null,
      "grid_row": null,
      "grid_template_areas": null,
      "grid_template_columns": null,
      "grid_template_rows": null,
      "height": null,
      "justify_content": null,
      "justify_items": null,
      "left": null,
      "margin": null,
      "max_height": null,
      "max_width": null,
      "min_height": null,
      "min_width": null,
      "object_fit": null,
      "object_position": null,
      "order": null,
      "overflow": null,
      "overflow_x": null,
      "overflow_y": null,
      "padding": null,
      "right": null,
      "top": null,
      "visibility": null,
      "width": null
     }
    },
    "27813c43675542a59e762791e515e8b2": {
     "model_module": "@jupyter-widgets/controls",
     "model_module_version": "1.5.0",
     "model_name": "HTMLModel",
     "state": {
      "_dom_classes": [],
      "_model_module": "@jupyter-widgets/controls",
      "_model_module_version": "1.5.0",
      "_model_name": "HTMLModel",
      "_view_count": null,
      "_view_module": "@jupyter-widgets/controls",
      "_view_module_version": "1.5.0",
      "_view_name": "HTMLView",
      "description": "",
      "description_tooltip": null,
      "layout": "IPY_MODEL_02ce51b93f394398afe8c91a6c2b2a77",
      "placeholder": "​",
      "style": "IPY_MODEL_e869aced0ad248cd9353e0240429e9e1",
      "value": "Epoch: 100%"
     }
    },
    "4c2df1c491e74304b89eb1932f818868": {
     "model_module": "@jupyter-widgets/base",
     "model_module_version": "1.2.0",
     "model_name": "LayoutModel",
     "state": {
      "_model_module": "@jupyter-widgets/base",
      "_model_module_version": "1.2.0",
      "_model_name": "LayoutModel",
      "_view_count": null,
      "_view_module": "@jupyter-widgets/base",
      "_view_module_version": "1.2.0",
      "_view_name": "LayoutView",
      "align_content": null,
      "align_items": null,
      "align_self": null,
      "border": null,
      "bottom": null,
      "display": null,
      "flex": null,
      "flex_flow": null,
      "grid_area": null,
      "grid_auto_columns": null,
      "grid_auto_flow": null,
      "grid_auto_rows": null,
      "grid_column": null,
      "grid_gap": null,
      "grid_row": null,
      "grid_template_areas": null,
      "grid_template_columns": null,
      "grid_template_rows": null,
      "height": null,
      "justify_content": null,
      "justify_items": null,
      "left": null,
      "margin": null,
      "max_height": null,
      "max_width": null,
      "min_height": null,
      "min_width": null,
      "object_fit": null,
      "object_position": null,
      "order": null,
      "overflow": null,
      "overflow_x": null,
      "overflow_y": null,
      "padding": null,
      "right": null,
      "top": null,
      "visibility": "hidden",
      "width": null
     }
    },
    "821e660494b44332953800b1c69d0224": {
     "model_module": "@jupyter-widgets/controls",
     "model_module_version": "1.5.0",
     "model_name": "HTMLModel",
     "state": {
      "_dom_classes": [],
      "_model_module": "@jupyter-widgets/controls",
      "_model_module_version": "1.5.0",
      "_model_name": "HTMLModel",
      "_view_count": null,
      "_view_module": "@jupyter-widgets/controls",
      "_view_module_version": "1.5.0",
      "_view_name": "HTMLView",
      "description": "",
      "description_tooltip": null,
      "layout": "IPY_MODEL_01a7ff43f36b45898f3fedcdfe75c3e8",
      "placeholder": "​",
      "style": "IPY_MODEL_d2793ee60846430fbbddb2fa7f69bd78",
      "value": " 30/30 [30:55&lt;00:00, 61.52s/it]"
     }
    },
    "c1fa7b50e7fb45d18c9b78b1f3fce452": {
     "model_module": "@jupyter-widgets/controls",
     "model_module_version": "1.5.0",
     "model_name": "FloatProgressModel",
     "state": {
      "_dom_classes": [],
      "_model_module": "@jupyter-widgets/controls",
      "_model_module_version": "1.5.0",
      "_model_name": "FloatProgressModel",
      "_view_count": null,
      "_view_module": "@jupyter-widgets/controls",
      "_view_module_version": "1.5.0",
      "_view_name": "ProgressView",
      "bar_style": "",
      "description": "",
      "description_tooltip": null,
      "layout": "IPY_MODEL_060339472dd04f4ea5861d05dbacad64",
      "max": 30,
      "min": 0,
      "orientation": "horizontal",
      "style": "IPY_MODEL_c883ab9e0d84461e9e01d9cc20c4aab3",
      "value": 30
     }
    },
    "c883ab9e0d84461e9e01d9cc20c4aab3": {
     "model_module": "@jupyter-widgets/controls",
     "model_module_version": "1.5.0",
     "model_name": "ProgressStyleModel",
     "state": {
      "_model_module": "@jupyter-widgets/controls",
      "_model_module_version": "1.5.0",
      "_model_name": "ProgressStyleModel",
      "_view_count": null,
      "_view_module": "@jupyter-widgets/base",
      "_view_module_version": "1.2.0",
      "_view_name": "StyleView",
      "bar_color": null,
      "description_width": ""
     }
    },
    "d1e5b879f8914a60914913e7aa080c33": {
     "model_module": "@jupyter-widgets/controls",
     "model_module_version": "1.5.0",
     "model_name": "HBoxModel",
     "state": {
      "_dom_classes": [],
      "_model_module": "@jupyter-widgets/controls",
      "_model_module_version": "1.5.0",
      "_model_name": "HBoxModel",
      "_view_count": null,
      "_view_module": "@jupyter-widgets/controls",
      "_view_module_version": "1.5.0",
      "_view_name": "HBoxView",
      "box_style": "",
      "children": [
       "IPY_MODEL_27813c43675542a59e762791e515e8b2",
       "IPY_MODEL_c1fa7b50e7fb45d18c9b78b1f3fce452",
       "IPY_MODEL_821e660494b44332953800b1c69d0224"
      ],
      "layout": "IPY_MODEL_4c2df1c491e74304b89eb1932f818868"
     }
    },
    "d2793ee60846430fbbddb2fa7f69bd78": {
     "model_module": "@jupyter-widgets/controls",
     "model_module_version": "1.5.0",
     "model_name": "DescriptionStyleModel",
     "state": {
      "_model_module": "@jupyter-widgets/controls",
      "_model_module_version": "1.5.0",
      "_model_name": "DescriptionStyleModel",
      "_view_count": null,
      "_view_module": "@jupyter-widgets/base",
      "_view_module_version": "1.2.0",
      "_view_name": "StyleView",
      "description_width": ""
     }
    },
    "e869aced0ad248cd9353e0240429e9e1": {
     "model_module": "@jupyter-widgets/controls",
     "model_module_version": "1.5.0",
     "model_name": "DescriptionStyleModel",
     "state": {
      "_model_module": "@jupyter-widgets/controls",
      "_model_module_version": "1.5.0",
      "_model_name": "DescriptionStyleModel",
      "_view_count": null,
      "_view_module": "@jupyter-widgets/base",
      "_view_module_version": "1.2.0",
      "_view_name": "StyleView",
      "description_width": ""
     }
    }
   }
  }
 },
 "nbformat": 4,
 "nbformat_minor": 0
}
