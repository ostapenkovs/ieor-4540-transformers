{
 "cells": [
  {
   "cell_type": "markdown",
   "metadata": {},
   "source": [
    "Final Results\n",
    "\n",
    "* analyzing: Training time, Classification accuracy on validation set, Inference time on validation set"
   ]
  },
  {
   "cell_type": "code",
   "execution_count": 1,
   "metadata": {},
   "outputs": [],
   "source": [
    "import json"
   ]
  },
  {
   "cell_type": "code",
   "execution_count": 2,
   "metadata": {},
   "outputs": [],
   "source": [
    "data_dir = '../data'"
   ]
  },
  {
   "cell_type": "code",
   "execution_count": null,
   "metadata": {},
   "outputs": [],
   "source": [
    "dataset_name = 'cifar10'\n",
    "\n",
    "class_names = [\n",
    "    'Airplane', 'Automobile', 'Bird', 'Cat', 'Deer', \n",
    "    'Dog', 'Frog', 'Horse', 'Ship', 'Truck'\n",
    "]\n",
    "\n",
    "with open(f'{data_dir}/params.json') as f:\n",
    "    my_params = json.load(f)[dataset_name]"
   ]
  },
  {
   "cell_type": "code",
   "execution_count": 4,
   "metadata": {},
   "outputs": [
    {
     "data": {
      "text/plain": [
       "{'patch_size': 4,\n",
       " 'dim': 256,\n",
       " 'dim_head': 64,\n",
       " 'mlp_dim': 512,\n",
       " 'heads': 8,\n",
       " 'depth': 4,\n",
       " 'pool': 'cls',\n",
       " 'dropout': 0.15,\n",
       " 'emb_dropout': 0.15,\n",
       " 'la_depth': 1,\n",
       " 'la_exp': True,\n",
       " 'lr': 0.001,\n",
       " 'epochs': 30,\n",
       " 'gamma': 30,\n",
       " 'batch_size': 256}"
      ]
     },
     "execution_count": 4,
     "metadata": {},
     "output_type": "execute_result"
    }
   ],
   "source": [
    "my_params"
   ]
  }
 ],
 "metadata": {
  "kernelspec": {
   "display_name": "nnenv",
   "language": "python",
   "name": "python3"
  },
  "language_info": {
   "codemirror_mode": {
    "name": "ipython",
    "version": 3
   },
   "file_extension": ".py",
   "mimetype": "text/x-python",
   "name": "python",
   "nbconvert_exporter": "python",
   "pygments_lexer": "ipython3",
   "version": "3.10.15"
  }
 },
 "nbformat": 4,
 "nbformat_minor": 2
}
